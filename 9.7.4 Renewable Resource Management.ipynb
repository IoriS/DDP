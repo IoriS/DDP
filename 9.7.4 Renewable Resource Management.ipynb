{
 "cells": [
  {
   "cell_type": "markdown",
   "metadata": {},
   "source": [
    "# 9.7.4 Renewable Resource Management"
   ]
  },
  {
   "cell_type": "markdown",
   "metadata": {},
   "source": [
    "From Miranda and Fackler, Applied Computational Economics and Finance, 2002, Section 9.7.4"
   ]
  },
  {
   "cell_type": "markdown",
   "metadata": {},
   "source": [
    "資源ストック（米のようなもの？）$s$のうち$x$を収穫し、それを売却し利益を得る。  \n",
    "収穫コストは$c(x)$、価格は$p(x)$。  \n",
    "$t+1$期のsは$s_{t+1}=h(s_{t}-x_{t})$"
   ]
  },
  {
   "cell_type": "markdown",
   "metadata": {},
   "source": [
    "state variable $s\\in[0,s)$  \n",
    "action variable $x\\in[0,s]$  \n",
    "state transaction function $g(s,x)=h(s-x)$  \n",
    "reward function $f(s,x)=\\int_0^x p(\\xi) d\\xi-c(x)$  \n",
    "Bellman equation $V(s)=max_{0\\leq x\\leq s} \\{\\int_0^x p(\\xi) d\\xi-c(x)+\\delta V(h(s-x))\\} $"
   ]
  },
  {
   "cell_type": "markdown",
   "metadata": {},
   "source": [
    "今回の例では  \n",
    "$g(s,x)=\\alpha(s-x)-0.5\\beta(s-x)^2$  \n",
    "$p(x)=x^{-\\gamma}$  \n",
    "$f(s,x) =  \\int_0^x p(\\xi) d\\xi-c(x) =\\cfrac{x^{1-\\gamma}}{1-\\gamma} -\\kappa x$"
   ]
  },
  {
   "cell_type": "code",
   "execution_count": 1,
   "metadata": {
    "collapsed": false
   },
   "outputs": [],
   "source": [
    "using QuantEcon\n",
    "using BasisMatrices\n",
    "using Plots\n",
    "using Optim"
   ]
  },
  {
   "cell_type": "code",
   "execution_count": 2,
   "metadata": {
    "collapsed": false
   },
   "outputs": [],
   "source": [
    "struct RenewableResourceManagement\n",
    "    alpha::Float64\n",
    "    beta::Float64\n",
    "    gamma::Float64\n",
    "    kappa::Float64\n",
    "    delta::Float64\n",
    "    s_vec::Vector{Float64}\n",
    "end"
   ]
  },
  {
   "cell_type": "code",
   "execution_count": 3,
   "metadata": {
    "collapsed": false
   },
   "outputs": [
    {
     "data": {
      "text/plain": [
       "([6.1685e-6, 5.55164e-5, 0.000154212, 0.000302254, 0.00049964, 0.00074637, 0.00104244, 0.00138785, 0.00178259, 0.00222666  …  9.99777, 9.99822, 9.99861, 9.99896, 9.99925, 9.9995, 9.9997, 9.99985, 9.99994, 9.99999], Array{Float64,1}[[6.1685e-6, 5.55164e-5, 0.000154212, 0.000302254, 0.00049964, 0.00074637, 0.00104244, 0.00138785, 0.00178259, 0.00222666  …  9.99777, 9.99822, 9.99861, 9.99896, 9.99925, 9.9995, 9.9997, 9.99985, 9.99994, 9.99999]])"
      ]
     },
     "execution_count": 3,
     "metadata": {},
     "output_type": "execute_result"
    }
   ],
   "source": [
    "n = 1000\n",
    "smin = 0\n",
    "smax = 10\n",
    "fspace = Basis(ChebParams(n,smin,smax))\n",
    "snodes = nodes(fspace)"
   ]
  },
  {
   "cell_type": "code",
   "execution_count": 4,
   "metadata": {
    "collapsed": false
   },
   "outputs": [
    {
     "data": {
      "text/plain": [
       "RenewableResourceManagement(4.0, 1.0, 0.5, 0.2, 0.9, [6.1685e-6, 5.55164e-5, 0.000154212, 0.000302254, 0.00049964, 0.00074637, 0.00104244, 0.00138785, 0.00178259, 0.00222666  …  9.99777, 9.99822, 9.99861, 9.99896, 9.99925, 9.9995, 9.9997, 9.99985, 9.99994, 9.99999])"
      ]
     },
     "execution_count": 4,
     "metadata": {},
     "output_type": "execute_result"
    }
   ],
   "source": [
    "RRM = RenewableResourceManagement(4.0,1.0,0.5,0.2,0.9,snodes[1])"
   ]
  },
  {
   "cell_type": "code",
   "execution_count": 5,
   "metadata": {
    "collapsed": false,
    "scrolled": true
   },
   "outputs": [
    {
     "data": {
      "text/plain": [
       "update_bellman! (generic function with 1 method)"
      ]
     },
     "execution_count": 5,
     "metadata": {},
     "output_type": "execute_result"
    }
   ],
   "source": [
    "function update_bellman!(RRM::RenewableResourceManagement,V::Vector)\n",
    "    a,b,g,k,d = RRM.alpha, RRM.beta, RRM.gamma, RRM.kappa, RRM.delta\n",
    "    V_func = LinInterp(RRM.s_vec, V)\n",
    "    V_new = similar(V)\n",
    "    policy = similar(V)\n",
    "    \n",
    "    for (i, s) in enumerate(RRM.s_vec)\n",
    "        objective(x) =  -((x^(1-g))/(1-g) -k*x +d*(V_func.(a*(s-x)-0.5*b*(s-x)^2)))\n",
    "        opt = optimize(objective,1e-10,s)\n",
    "        V_new[i] = -opt.minimum\n",
    "        policy[i] = opt.minimizer\n",
    "    end\n",
    "    return V_new,policy\n",
    "end"
   ]
  },
  {
   "cell_type": "code",
   "execution_count": 6,
   "metadata": {
    "collapsed": true
   },
   "outputs": [],
   "source": [
    "V = Vector{Float64}(length(RRM.s_vec))\n",
    "for i in 1:length(RRM.s_vec)\n",
    "    V[i] = 6\n",
    "end"
   ]
  },
  {
   "cell_type": "code",
   "execution_count": 7,
   "metadata": {
    "collapsed": false
   },
   "outputs": [],
   "source": [
    "V_comp = similar(V)\n",
    "policy = similar(V)\n",
    "tol = sqrt(eps())\n",
    "max_iter = 1000\n",
    "V_error = 1.0\n",
    "i = 1\n",
    "while V_error > tol && i <= max_iter\n",
    "    V_comp ,policy = update_bellman!(RRM,V)\n",
    "    V_error = maximum(abs, V_comp - V) \n",
    "    copy!(V,V_comp)\n",
    "    i += 1\n",
    "end"
   ]
  },
  {
   "cell_type": "code",
   "execution_count": 8,
   "metadata": {
    "collapsed": false
   },
   "outputs": [
    {
     "data": {
      "text/plain": [
       "1000-element Array{Float64,1}:\n",
       " 1.0e-10   \n",
       " 2.63784e-9\n",
       " 1.79843e-8\n",
       " 6.28802e-8\n",
       " 1.59767e-7\n",
       " 3.36229e-7\n",
       " 6.23869e-7\n",
       " 1.06019e-6\n",
       " 1.68404e-6\n",
       " 2.54262e-6\n",
       " 3.68439e-6\n",
       " 5.15858e-6\n",
       " 7.02374e-6\n",
       " ⋮         \n",
       " 6.78719   \n",
       " 6.78767   \n",
       " 6.78811   \n",
       " 6.78851   \n",
       " 6.78886   \n",
       " 6.78917   \n",
       " 6.78943   \n",
       " 6.78965   \n",
       " 6.78983   \n",
       " 6.78996   \n",
       " 6.79005   \n",
       " 6.79009   "
      ]
     },
     "execution_count": 8,
     "metadata": {},
     "output_type": "execute_result"
    }
   ],
   "source": [
    "policy"
   ]
  },
  {
   "cell_type": "code",
   "execution_count": 9,
   "metadata": {
    "collapsed": false,
    "scrolled": true
   },
   "outputs": [
    {
     "data": {
      "text/plain": [
       "1000-element Array{Float64,1}:\n",
       " 10.654 \n",
       " 13.8107\n",
       " 14.9782\n",
       " 15.7789\n",
       " 16.3996\n",
       " 16.9106\n",
       " 17.3473\n",
       " 17.73  \n",
       " 18.0713\n",
       " 18.3799\n",
       " 18.6619\n",
       " 18.9219\n",
       " 19.1634\n",
       "  ⋮     \n",
       " 33.9944\n",
       " 33.9945\n",
       " 33.9946\n",
       " 33.9947\n",
       " 33.9948\n",
       " 33.9948\n",
       " 33.9949\n",
       " 33.9949\n",
       " 33.995 \n",
       " 33.995 \n",
       " 33.995 \n",
       " 33.995 "
      ]
     },
     "execution_count": 9,
     "metadata": {},
     "output_type": "execute_result"
    }
   ],
   "source": [
    "V"
   ]
  },
  {
   "cell_type": "code",
   "execution_count": 10,
   "metadata": {
    "collapsed": false,
    "scrolled": true
   },
   "outputs": [
    {
     "data": {
      "text/html": [
       "<img src=\"data:image/png;base64,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\" />"
      ]
     },
     "execution_count": 10,
     "metadata": {},
     "output_type": "execute_result"
    }
   ],
   "source": [
    "plot(RRM.s_vec,policy./RRM.s_vec,xlim = (6,9),ylim=(0.5,0.75))"
   ]
  },
  {
   "cell_type": "code",
   "execution_count": 11,
   "metadata": {
    "collapsed": false
   },
   "outputs": [
    {
     "data": {
      "text/html": [
       "<img src=\"data:image/png;base64,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\" />"
      ]
     },
     "execution_count": 11,
     "metadata": {},
     "output_type": "execute_result"
    }
   ],
   "source": [
    "Phi = BasisMatrix(fspace, Expanded(), RRM.s_vec, 0)\n",
    "coef = Phi.vals[1] \\ V\n",
    "order = 1\n",
    "B1 = evalbase(fspace.params[1], RRM.s_vec, order)\n",
    "interp1 = B1 * coef\n",
    "plot(RRM.s_vec, interp1, xlim = (6,9),ylim=(0.2,0.4))"
   ]
  },
  {
   "cell_type": "markdown",
   "metadata": {},
   "source": [
    "LQモデルに当てはめる（？）"
   ]
  },
  {
   "cell_type": "markdown",
   "metadata": {},
   "source": [
    "LQ  \n",
    "stete vectorを$s$、control vectorを$x$、（今回は無いが）shockを$w$として、state transitionを  \n",
    "\\begin{eqnarray*}\n",
    "s_{t+1}=As_t+Bx_t+Cw_{t+1} \\\\\n",
    "\\end{eqnarray*}\n",
    "とし、目的関数  \n",
    "\\begin{eqnarray*}\n",
    "r(s,x):=s^T_tRs_t+x^T_tQx_t+2x^T_tNs_t \\\\\n",
    "\\end{eqnarray*}\n",
    "を最小化する。  \n",
    "\n",
    "今回の例では、$r(s,x)を-f(s,x)$とし、これを最小化させる\n",
    "\n",
    "$f(s,x)をs^*、x^*$の周りで2次までで展開すると、  \n",
    "\\begin{eqnarray*}\n",
    "f(s,x) \\simeq f(s^*,x^*)+f_s(s^*,x^*)(s-s^*)+f_x(s^*,x^*)(x-x^*)+\\cfrac{1}{2}f_{ss}(s^*,x^*)(s-s^*)^2+\\cfrac{1}{2}f_{xx}(s^*,x^*)(x-x^*)^2+f_{sx}(s^*,x^*)(s-s^*)(x-x^*) \\\\\n",
    "\\end{eqnarray*}\n",
    "\n",
    "$g(s,x)をs^*、x^*$の周りで1次までで展開すると、  \n",
    "\\begin{eqnarray*}\n",
    "g(s,x) \\simeq g(s^*,x^*)+g_s(s^*,x^*)(s-s^*)+g_x(s^*,x^*)(x-x^*) \\\\\n",
    "\\end{eqnarray*}\n",
    "\n",
    "stateを$s'=s-s^*$、actionを$x'=x-x^*$とする。\n",
    "\\begin{eqnarray*}\n",
    "f(s,x) \\simeq f^*+f_s^*s'+f_x^*x'+\\cfrac{1}{2}f_{ss}^*s'^2+\\cfrac{1}{2}f_{xx}^*x'^2+f_{sx}^*s'x' \\\\\n",
    "\\end{eqnarray*}  \n",
    "\\begin{eqnarray*}\n",
    "=\\begin{pmatrix} s' & 1 \\end{pmatrix}\\begin{pmatrix} \\cfrac{1}{2}f^*_{ss} & \\cfrac{1}{2}f^*_{s} \\\\  \\cfrac{1}{2}f^*_{s} & f^* \\end{pmatrix}\\begin{pmatrix} s' \\\\ 1 \\end{pmatrix}+\\cfrac{1}{2}f^*_{xx}x'^2+2x'\\begin{pmatrix} \\cfrac{1}{2}f^*_{sx} & \\cfrac{1}{2}f^*_x \\end{pmatrix}\\begin{pmatrix} s' \\\\ 1 \\end{pmatrix}\n",
    "\\end{eqnarray*}  \n",
    "よって\n",
    "\\begin{eqnarray*}\n",
    "R=\\begin{pmatrix} \\cfrac{1}{2}f^*_{ss} & \\cfrac{1}{2}f^*_{s} \\\\  \\cfrac{1}{2}f^*_{s} & f^* \\end{pmatrix}, & Q=\\cfrac{1}{2}f^*_{xx}, & N=\\begin{pmatrix} \\cfrac{1}{2}f^*_{sx} & \\cfrac{1}{2}f^*_x \\end{pmatrix}\n",
    "\\end{eqnarray*}\n",
    "また、state transiotionは\n",
    "\\begin{eqnarray}\n",
    "g(s,x) \\simeq g^*+g_s^*s'+g_x^*x' \n",
    "\\end{eqnarray}\n",
    "\\begin{eqnarray}\n",
    "\\Leftrightarrow \\begin{pmatrix} s'_{t+1} \\\\ 1 \\end{pmatrix}=\\begin{pmatrix} g^*_s & g^* \\\\  0 & 1 \\end{pmatrix}\\begin{pmatrix} s'_t \\\\ 1 \\end{pmatrix}+\\begin{pmatrix} g^*_x \\\\ 0 \\end{pmatrix}x'_t\n",
    "\\end{eqnarray}\n",
    "よって、\n",
    "\\begin{eqnarray*}\n",
    "A=\\begin{pmatrix} g^*_s & g^* \\\\  0 & 1 \\end{pmatrix}, & B=\\begin{pmatrix} g^*_x \\\\ 0 \\end{pmatrix}\n",
    "\\end{eqnarray*}"
   ]
  },
  {
   "cell_type": "markdown",
   "metadata": {},
   "source": [
    "$y=s-x$とし、$f(s,x) =\\cfrac{x^{1-\\gamma}}{1-\\gamma} -\\kappa x=\\cfrac{(s-y)^{1-\\gamma}}{1-\\gamma} -\\kappa (s-y)$とする。  \n",
    "  \n",
    "$f_{s}=(s-y)^{-\\gamma}-\\kappa$  \n",
    "$f_{y}=-(s-y)^{-\\gamma}+\\kappa$  \n",
    "$f_{ss}=f_{yy}=f_{sy}=-\\gamma(s-y)^{-\\gamma-1}$  \n",
    "  \n",
    "$g(s,x)=\\alpha(s-x)-0.5\\beta(s-x)^2=\\alpha y-0.5\\beta y^2$  \n",
    "$g_{s}=0$  \n",
    "$g_{y}=\\alpha-\\beta y$\n",
    "\n",
    "よって、今回の例では  \n",
    "$R=\\begin{pmatrix} -\\cfrac{1}{2}f^*_{ss} & -\\cfrac{1}{2}f^*_{s} \\\\  -\\cfrac{1}{2}f^*_{s} & -f^* \\end{pmatrix}$  \n",
    "$Q=-\\cfrac{1}{2}f^*_{xx}$  \n",
    "$N=\\begin{pmatrix} -\\cfrac{1}{2}f^*_{sx} & -\\cfrac{1}{2}f^*_x \\end{pmatrix}$  \n",
    "$A=\\begin{pmatrix} 0 & g^* \\\\  0 & 1 \\end{pmatrix}$    $B=\\begin{pmatrix} g^*_x \\\\ 0 \\end{pmatrix}$  "
   ]
  },
  {
   "cell_type": "code",
   "execution_count": 12,
   "metadata": {
    "collapsed": false
   },
   "outputs": [
    {
     "data": {
      "text/plain": [
       "QuantEcon.LQ(0.0262431197105178, [0.0262431 -0.135864; -0.135864 -3.34096], [0.0 7.38272; 0.0 1.0], [1.11111, 0.0], [0, 0], [0.0262431 0.135864], 0.9, nothing, [NaN NaN; NaN NaN], [NaN NaN; NaN NaN], 0.0, [0.0 0.0])"
      ]
     },
     "execution_count": 12,
     "metadata": {},
     "output_type": "execute_result"
    }
   ],
   "source": [
    "a,b,r,k,d = RRM.alpha, RRM.beta, RRM.gamma, RRM.kappa, RRM.delta\n",
    "sstar = (a^2 - 1/(d^2))/(2*b)\n",
    "xstar = sstar - (d*a - 1)/(d*b)\n",
    "ystar = sstar - xstar\n",
    "f(s,y) = ((s-y)^(1-r))/(1-r) -k*(s-y)\n",
    "fs(s,y) = (s-y)^(-r) -k\n",
    "fy(s,y) = -(s-y)^(-r) +k\n",
    "fss(s,y) = -r*(s-y)^(-1-r)\n",
    "g(y) = a*y - 0.5*b*y^2\n",
    "gy(y) = a - b*y\n",
    " \n",
    "Q = -0.5*fss(sstar,ystar)\n",
    "R = [-0.5*fss(sstar,ystar) -0.5*fs(sstar,ystar)\n",
    "        -0.5*fs(sstar,ystar) -f(sstar,ystar)]\n",
    "N = [-0.5*fss(sstar,ystar) -0.5*fy(sstar,ystar)]\n",
    "A = [0 g(ystar)\n",
    "        0.0 1.0]\n",
    "B = [gy(ystar); 0]\n",
    "C = [0;0]\n",
    "lq = LQ(Q,R,A,B,C,N;bet=d)"
   ]
  },
  {
   "cell_type": "code",
   "execution_count": 13,
   "metadata": {
    "collapsed": false
   },
   "outputs": [
    {
     "data": {
      "text/plain": [
       "([0.00262431 -0.145042; -0.145042 -51.4324], [0.9 0.349708], 0.0)"
      ]
     },
     "execution_count": 13,
     "metadata": {},
     "output_type": "execute_result"
    }
   ],
   "source": [
    "P,F,d = stationary_values(lq)"
   ]
  },
  {
   "cell_type": "code",
   "execution_count": 14,
   "metadata": {
    "collapsed": false
   },
   "outputs": [
    {
     "data": {
      "text/plain": [
       "101-element Array{Float64,1}:\n",
       "  6.0   \n",
       " 15.7596\n",
       "  6.0   \n",
       " 15.7596\n",
       "  6.0   \n",
       " 15.7596\n",
       "  6.0   \n",
       " 15.7596\n",
       "  6.0   \n",
       " 15.7596\n",
       "  6.0   \n",
       " 15.7596\n",
       "  6.0   \n",
       "  ⋮     \n",
       " 15.7596\n",
       "  6.0   \n",
       " 15.7596\n",
       "  6.0   \n",
       " 15.7596\n",
       "  6.0   \n",
       " 15.7596\n",
       "  6.0   \n",
       " 15.7596\n",
       "  6.0   \n",
       " 15.7596\n",
       "  6.0   "
      ]
     },
     "execution_count": 14,
     "metadata": {},
     "output_type": "execute_result"
    }
   ],
   "source": [
    "s0 = [6.0-sstar;1.0]\n",
    "sp, up = compute_sequence(lq,s0)\n",
    "stock=sp[1,:]+sstar"
   ]
  },
  {
   "cell_type": "code",
   "execution_count": 15,
   "metadata": {
    "collapsed": false,
    "scrolled": true
   },
   "outputs": [
    {
     "data": {
      "text/plain": [
       "1×100 Array{Float64,2}:\n",
       " 0.894737  -7.88889  0.894737  -7.88889  …  -7.88889  0.894737  -7.88889"
      ]
     },
     "execution_count": 15,
     "metadata": {},
     "output_type": "execute_result"
    }
   ],
   "source": [
    "up"
   ]
  }
 ],
 "metadata": {
  "kernelspec": {
   "display_name": "Julia 0.6.0",
   "language": "julia",
   "name": "julia-0.6"
  },
  "language_info": {
   "file_extension": ".jl",
   "mimetype": "application/julia",
   "name": "julia",
   "version": "0.6.0"
  }
 },
 "nbformat": 4,
 "nbformat_minor": 2
}
